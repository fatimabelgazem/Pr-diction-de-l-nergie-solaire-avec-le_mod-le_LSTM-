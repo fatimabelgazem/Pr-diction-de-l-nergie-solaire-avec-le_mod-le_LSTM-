{
 "cells": [
  {
   "cell_type": "code",
   "execution_count": 1,
   "metadata": {
    "id": "LlGiDtNlOKLm"
   },
   "outputs": [],
   "source": [
    "import os\n",
    "import numpy as np\n",
    "import matplotlib.pyplot as plt\n",
    "import seaborn as sns\n",
    "import pandas as pd\n",
    "import glob\n",
    "import tensorflow as tf\n",
    "from PIL import Image\n",
    "from keras.models import Sequential\n",
    "from keras.layers import Dense\n",
    "from keras.layers import LSTM\n",
    "from keras.layers import Dropout\n",
    "from keras.layers import Conv2D\n",
    "from keras.layers import Conv1D\n",
    "from keras.layers import MaxPooling3D\n",
    "from keras.layers import MaxPooling2D\n",
    "from keras.layers import Flatten\n",
    "from keras.layers import TimeDistributed\n",
    "from keras.layers import Lambda\n",
    "from keras.layers import Reshape\n",
    "from keras.layers import BatchNormalization\n",
    "from keras.layers import GRU\n",
    "from keras.layers import AveragePooling2D\n",
    "\n",
    "from sklearn.preprocessing import MinMaxScaler\n",
    "from sklearn.metrics import mean_squared_error\n",
    "from sklearn.model_selection import train_test_split\n",
    "import keras.optimizers as ops"
   ]
  },
  {
   "cell_type": "markdown",
   "metadata": {
    "id": "geDz3meblAl6"
   },
   "source": []
  },
  {
   "cell_type": "markdown",
   "metadata": {
    "id": "Vb11WvxdlB0V"
   },
   "source": [
    "Cette fonction reg_data effectue plusieurs étapes de traitement des données sur le DataFrame donné.\n",
    "\n",
    "Elle supprime les lignes inutiles et la colonne 'MW'.\n",
    "Elle extrait la date en jours, mois et années à partir de la colonne 'Date'.\n",
    "Elle corrige les valeurs dans la colonne 'MW' en remplaçant les points par des virgules.\n",
    "Elle regroupe les données par jour, mois et année, et somme les valeurs de MW."
   ]
  },
  {
   "cell_type": "code",
   "execution_count": 3,
   "metadata": {
    "id": "PMkcqO5pPq4h"
   },
   "outputs": [],
   "source": [
    "# création de la fonction qui va traiter les données\n",
    "def reg_data(df):\n",
    "      # Suppression des premières lignes inutiles et d'une colonne 'MW'\n",
    "    df = df.drop(df.index[[0,1,2]])\n",
    "    df = df.drop('MW', axis=1)\n",
    "    df.columns = ['Date', 'From', 'to', 'MW']\n",
    "\n",
    "     # Extraction de la date en jours, mois et années\n",
    "    dates = df['Date'].tolist()\n",
    "\n",
    "    days = []\n",
    "    months = []\n",
    "    years = []\n",
    "    for date in dates:\n",
    "        days.append(date.split('.')[0])\n",
    "        months.append(date.split('.')[1])\n",
    "        years.append(date.split('.')[2])\n",
    "\n",
    "    # Ajout de colonnes pour jours, mois et années\n",
    "    df['Day'] = days\n",
    "    df['Month'] = months\n",
    "    df['Year'] = years\n",
    "\n",
    "     # Fonction pour corriger les valeurs dans la colonne 'MW'\n",
    "    def fixMW(cols):\n",
    "        TT = cols\n",
    "        TT = TT.replace('.','')\n",
    "        TT = TT.replace(',','.')\n",
    "        return TT\n",
    "\n",
    "    # Application de la fonction fixMW à la colonne 'MW' et conversion en float\n",
    "    df['MW'] = df['MW'].apply(fixMW).astype(float)\n",
    "    df['Day'] = df['Day'].astype(int)\n",
    "    df['Month'] = df['Month'].astype(int)\n",
    "    df['Year'] = df['Year'].astype(int)\n",
    "\n",
    "    # Regroupement des données par jour, mois et année et somme des valeurs de MW\n",
    "    df = df.groupby(['Day','Month','Year'])['MW'].sum()\n",
    "    df = pd.DataFrame(df)\n",
    "    df['Month'] = df.index.get_level_values('Month')\n",
    "    df['Day'] = df.index.get_level_values('Day')\n",
    "    df['Year'] = df.index.get_level_values('Year')\n",
    "    df.reset_index(drop=True, inplace=True)\n",
    "    return df\n",
    "\n"
   ]
  },
  {
   "cell_type": "markdown",
   "metadata": {
    "id": "4S4V-d7qmy24"
   },
   "source": [
    "Ces sections téléchargent les données pour chaque année, les traitent à l'aide de la fonction reg_data, puis les concatènent en une seule DataFrame. Les données sont ensuite standardisées pour les mettre à l'échelle entre 0 et 1."
   ]
  },
  {
   "cell_type": "code",
   "execution_count": 17,
   "metadata": {
    "id": "DmrAwzy5Q0pH"
   },
   "outputs": [],
   "source": [
    "# Appel de la fonction reg_data pour chaque année de données\n",
    "\n",
    "Data_10 = pd.read_csv('https://ws.50hertz.com/web02/api/PhotovoltaicActual/DownloadFile?fileName=2010.csv',sep=';')\n",
    "Data_10 = reg_data(Data_10)\n",
    "\n",
    "Data_11 = pd.read_csv('https://ws.50hertz.com/web02/api/PhotovoltaicActual/DownloadFile?fileName=2011.csv',sep=';')\n",
    "Data_11 = reg_data(Data_11)\n",
    "\n",
    "Data_12 = pd.read_csv('https://ws.50hertz.com/web02/api/PhotovoltaicActual/DownloadFile?fileName=2012.csv',sep=';')\n",
    "Data_12 = reg_data(Data_12)\n",
    "\n",
    "Data_13 = pd.read_csv('https://ws.50hertz.com/web02/api/PhotovoltaicActual/DownloadFile?fileName=2013.csv',sep=';')\n",
    "Data_13 = reg_data(Data_13)\n",
    "\n",
    "Data_14 = pd.read_csv('https://ws.50hertz.com/web02/api/PhotovoltaicActual/DownloadFile?fileName=2014.csv',sep=';')\n",
    "Data_14 = reg_data(Data_14)\n",
    "Data_15 = pd.read_csv('https://ws.50hertz.com/web02/api/PhotovoltaicActual/DownloadFile?fileName=2015.csv',sep=';')\n",
    "Data_15 = reg_data(Data_15)\n",
    "\n",
    "Data_16 = pd.read_csv('https://ws.50hertz.com/web02/api/PhotovoltaicActual/DownloadFile?fileName=2016.csv',sep=';')\n",
    "Data_16 = reg_data(Data_16)\n",
    "\n",
    "Data_17 = pd.read_csv('https://ws.50hertz.com/web02/api/PhotovoltaicActual/DownloadFile?fileName=2017.csv',sep=';')\n",
    "Data_17 = reg_data(Data_17)\n",
    "#concatener tout les donnees dans une seule DataFrame\n",
    "DataFrame = pd.concat([ Data_10, Data_11, Data_12, Data_13,Data_14, Data_15, Data_16, Data_17], ignore_index=True)"
   ]
  },
  {
   "cell_type": "code",
   "execution_count": 5,
   "metadata": {
    "colab": {
     "base_uri": "https://localhost:8080/",
     "height": 206
    },
    "id": "rLCXJRMTQ6xD",
    "outputId": "0a33d59c-eb08-4112-d7d3-433a97609625"
   },
   "outputs": [
    {
     "data": {
      "application/vnd.google.colaboratory.intrinsic+json": {
       "summary": "{\n  \"name\": \"DataFrame\",\n  \"rows\": 2922,\n  \"fields\": [\n    {\n      \"column\": \"MW\",\n      \"properties\": {\n        \"dtype\": \"number\",\n        \"std\": 58126.32855664419,\n        \"min\": 33.0,\n        \"max\": 251719.0,\n        \"num_unique_values\": 2900,\n        \"samples\": [\n          8799.0,\n          104120.0,\n          36561.0\n        ],\n        \"semantic_type\": \"\",\n        \"description\": \"\"\n      }\n    },\n    {\n      \"column\": \"Month\",\n      \"properties\": {\n        \"dtype\": \"number\",\n        \"std\": 3,\n        \"min\": 1,\n        \"max\": 12,\n        \"num_unique_values\": 12,\n        \"samples\": [\n          11,\n          10,\n          1\n        ],\n        \"semantic_type\": \"\",\n        \"description\": \"\"\n      }\n    },\n    {\n      \"column\": \"Day\",\n      \"properties\": {\n        \"dtype\": \"number\",\n        \"std\": 8,\n        \"min\": 1,\n        \"max\": 31,\n        \"num_unique_values\": 31,\n        \"samples\": [\n          28,\n          16,\n          24\n        ],\n        \"semantic_type\": \"\",\n        \"description\": \"\"\n      }\n    },\n    {\n      \"column\": \"Year\",\n      \"properties\": {\n        \"dtype\": \"number\",\n        \"std\": 2,\n        \"min\": 2010,\n        \"max\": 2017,\n        \"num_unique_values\": 8,\n        \"samples\": [\n          2011,\n          2015,\n          2010\n        ],\n        \"semantic_type\": \"\",\n        \"description\": \"\"\n      }\n    }\n  ]\n}",
       "type": "dataframe",
       "variable_name": "DataFrame"
      },
      "text/html": [
       "\n",
       "  <div id=\"df-6de85d27-cce4-4bac-b64e-b0f39f366947\" class=\"colab-df-container\">\n",
       "    <div>\n",
       "<style scoped>\n",
       "    .dataframe tbody tr th:only-of-type {\n",
       "        vertical-align: middle;\n",
       "    }\n",
       "\n",
       "    .dataframe tbody tr th {\n",
       "        vertical-align: top;\n",
       "    }\n",
       "\n",
       "    .dataframe thead th {\n",
       "        text-align: right;\n",
       "    }\n",
       "</style>\n",
       "<table border=\"1\" class=\"dataframe\">\n",
       "  <thead>\n",
       "    <tr style=\"text-align: right;\">\n",
       "      <th></th>\n",
       "      <th>MW</th>\n",
       "      <th>Month</th>\n",
       "      <th>Day</th>\n",
       "      <th>Year</th>\n",
       "    </tr>\n",
       "  </thead>\n",
       "  <tbody>\n",
       "    <tr>\n",
       "      <th>0</th>\n",
       "      <td>332.0</td>\n",
       "      <td>1</td>\n",
       "      <td>1</td>\n",
       "      <td>2010</td>\n",
       "    </tr>\n",
       "    <tr>\n",
       "      <th>1</th>\n",
       "      <td>1898.0</td>\n",
       "      <td>2</td>\n",
       "      <td>1</td>\n",
       "      <td>2010</td>\n",
       "    </tr>\n",
       "    <tr>\n",
       "      <th>2</th>\n",
       "      <td>2764.0</td>\n",
       "      <td>3</td>\n",
       "      <td>1</td>\n",
       "      <td>2010</td>\n",
       "    </tr>\n",
       "    <tr>\n",
       "      <th>3</th>\n",
       "      <td>12736.0</td>\n",
       "      <td>4</td>\n",
       "      <td>1</td>\n",
       "      <td>2010</td>\n",
       "    </tr>\n",
       "    <tr>\n",
       "      <th>4</th>\n",
       "      <td>8870.0</td>\n",
       "      <td>5</td>\n",
       "      <td>1</td>\n",
       "      <td>2010</td>\n",
       "    </tr>\n",
       "  </tbody>\n",
       "</table>\n",
       "</div>\n",
       "    <div class=\"colab-df-buttons\">\n",
       "\n",
       "  <div class=\"colab-df-container\">\n",
       "    <button class=\"colab-df-convert\" onclick=\"convertToInteractive('df-6de85d27-cce4-4bac-b64e-b0f39f366947')\"\n",
       "            title=\"Convert this dataframe to an interactive table.\"\n",
       "            style=\"display:none;\">\n",
       "\n",
       "  <svg xmlns=\"http://www.w3.org/2000/svg\" height=\"24px\" viewBox=\"0 -960 960 960\">\n",
       "    <path d=\"M120-120v-720h720v720H120Zm60-500h600v-160H180v160Zm220 220h160v-160H400v160Zm0 220h160v-160H400v160ZM180-400h160v-160H180v160Zm440 0h160v-160H620v160ZM180-180h160v-160H180v160Zm440 0h160v-160H620v160Z\"/>\n",
       "  </svg>\n",
       "    </button>\n",
       "\n",
       "  <style>\n",
       "    .colab-df-container {\n",
       "      display:flex;\n",
       "      gap: 12px;\n",
       "    }\n",
       "\n",
       "    .colab-df-convert {\n",
       "      background-color: #E8F0FE;\n",
       "      border: none;\n",
       "      border-radius: 50%;\n",
       "      cursor: pointer;\n",
       "      display: none;\n",
       "      fill: #1967D2;\n",
       "      height: 32px;\n",
       "      padding: 0 0 0 0;\n",
       "      width: 32px;\n",
       "    }\n",
       "\n",
       "    .colab-df-convert:hover {\n",
       "      background-color: #E2EBFA;\n",
       "      box-shadow: 0px 1px 2px rgba(60, 64, 67, 0.3), 0px 1px 3px 1px rgba(60, 64, 67, 0.15);\n",
       "      fill: #174EA6;\n",
       "    }\n",
       "\n",
       "    .colab-df-buttons div {\n",
       "      margin-bottom: 4px;\n",
       "    }\n",
       "\n",
       "    [theme=dark] .colab-df-convert {\n",
       "      background-color: #3B4455;\n",
       "      fill: #D2E3FC;\n",
       "    }\n",
       "\n",
       "    [theme=dark] .colab-df-convert:hover {\n",
       "      background-color: #434B5C;\n",
       "      box-shadow: 0px 1px 3px 1px rgba(0, 0, 0, 0.15);\n",
       "      filter: drop-shadow(0px 1px 2px rgba(0, 0, 0, 0.3));\n",
       "      fill: #FFFFFF;\n",
       "    }\n",
       "  </style>\n",
       "\n",
       "    <script>\n",
       "      const buttonEl =\n",
       "        document.querySelector('#df-6de85d27-cce4-4bac-b64e-b0f39f366947 button.colab-df-convert');\n",
       "      buttonEl.style.display =\n",
       "        google.colab.kernel.accessAllowed ? 'block' : 'none';\n",
       "\n",
       "      async function convertToInteractive(key) {\n",
       "        const element = document.querySelector('#df-6de85d27-cce4-4bac-b64e-b0f39f366947');\n",
       "        const dataTable =\n",
       "          await google.colab.kernel.invokeFunction('convertToInteractive',\n",
       "                                                    [key], {});\n",
       "        if (!dataTable) return;\n",
       "\n",
       "        const docLinkHtml = 'Like what you see? Visit the ' +\n",
       "          '<a target=\"_blank\" href=https://colab.research.google.com/notebooks/data_table.ipynb>data table notebook</a>'\n",
       "          + ' to learn more about interactive tables.';\n",
       "        element.innerHTML = '';\n",
       "        dataTable['output_type'] = 'display_data';\n",
       "        await google.colab.output.renderOutput(dataTable, element);\n",
       "        const docLink = document.createElement('div');\n",
       "        docLink.innerHTML = docLinkHtml;\n",
       "        element.appendChild(docLink);\n",
       "      }\n",
       "    </script>\n",
       "  </div>\n",
       "\n",
       "\n",
       "<div id=\"df-2fe126db-896f-4416-9a54-2890d2a7c961\">\n",
       "  <button class=\"colab-df-quickchart\" onclick=\"quickchart('df-2fe126db-896f-4416-9a54-2890d2a7c961')\"\n",
       "            title=\"Suggest charts\"\n",
       "            style=\"display:none;\">\n",
       "\n",
       "<svg xmlns=\"http://www.w3.org/2000/svg\" height=\"24px\"viewBox=\"0 0 24 24\"\n",
       "     width=\"24px\">\n",
       "    <g>\n",
       "        <path d=\"M19 3H5c-1.1 0-2 .9-2 2v14c0 1.1.9 2 2 2h14c1.1 0 2-.9 2-2V5c0-1.1-.9-2-2-2zM9 17H7v-7h2v7zm4 0h-2V7h2v10zm4 0h-2v-4h2v4z\"/>\n",
       "    </g>\n",
       "</svg>\n",
       "  </button>\n",
       "\n",
       "<style>\n",
       "  .colab-df-quickchart {\n",
       "      --bg-color: #E8F0FE;\n",
       "      --fill-color: #1967D2;\n",
       "      --hover-bg-color: #E2EBFA;\n",
       "      --hover-fill-color: #174EA6;\n",
       "      --disabled-fill-color: #AAA;\n",
       "      --disabled-bg-color: #DDD;\n",
       "  }\n",
       "\n",
       "  [theme=dark] .colab-df-quickchart {\n",
       "      --bg-color: #3B4455;\n",
       "      --fill-color: #D2E3FC;\n",
       "      --hover-bg-color: #434B5C;\n",
       "      --hover-fill-color: #FFFFFF;\n",
       "      --disabled-bg-color: #3B4455;\n",
       "      --disabled-fill-color: #666;\n",
       "  }\n",
       "\n",
       "  .colab-df-quickchart {\n",
       "    background-color: var(--bg-color);\n",
       "    border: none;\n",
       "    border-radius: 50%;\n",
       "    cursor: pointer;\n",
       "    display: none;\n",
       "    fill: var(--fill-color);\n",
       "    height: 32px;\n",
       "    padding: 0;\n",
       "    width: 32px;\n",
       "  }\n",
       "\n",
       "  .colab-df-quickchart:hover {\n",
       "    background-color: var(--hover-bg-color);\n",
       "    box-shadow: 0 1px 2px rgba(60, 64, 67, 0.3), 0 1px 3px 1px rgba(60, 64, 67, 0.15);\n",
       "    fill: var(--button-hover-fill-color);\n",
       "  }\n",
       "\n",
       "  .colab-df-quickchart-complete:disabled,\n",
       "  .colab-df-quickchart-complete:disabled:hover {\n",
       "    background-color: var(--disabled-bg-color);\n",
       "    fill: var(--disabled-fill-color);\n",
       "    box-shadow: none;\n",
       "  }\n",
       "\n",
       "  .colab-df-spinner {\n",
       "    border: 2px solid var(--fill-color);\n",
       "    border-color: transparent;\n",
       "    border-bottom-color: var(--fill-color);\n",
       "    animation:\n",
       "      spin 1s steps(1) infinite;\n",
       "  }\n",
       "\n",
       "  @keyframes spin {\n",
       "    0% {\n",
       "      border-color: transparent;\n",
       "      border-bottom-color: var(--fill-color);\n",
       "      border-left-color: var(--fill-color);\n",
       "    }\n",
       "    20% {\n",
       "      border-color: transparent;\n",
       "      border-left-color: var(--fill-color);\n",
       "      border-top-color: var(--fill-color);\n",
       "    }\n",
       "    30% {\n",
       "      border-color: transparent;\n",
       "      border-left-color: var(--fill-color);\n",
       "      border-top-color: var(--fill-color);\n",
       "      border-right-color: var(--fill-color);\n",
       "    }\n",
       "    40% {\n",
       "      border-color: transparent;\n",
       "      border-right-color: var(--fill-color);\n",
       "      border-top-color: var(--fill-color);\n",
       "    }\n",
       "    60% {\n",
       "      border-color: transparent;\n",
       "      border-right-color: var(--fill-color);\n",
       "    }\n",
       "    80% {\n",
       "      border-color: transparent;\n",
       "      border-right-color: var(--fill-color);\n",
       "      border-bottom-color: var(--fill-color);\n",
       "    }\n",
       "    90% {\n",
       "      border-color: transparent;\n",
       "      border-bottom-color: var(--fill-color);\n",
       "    }\n",
       "  }\n",
       "</style>\n",
       "\n",
       "  <script>\n",
       "    async function quickchart(key) {\n",
       "      const quickchartButtonEl =\n",
       "        document.querySelector('#' + key + ' button');\n",
       "      quickchartButtonEl.disabled = true;  // To prevent multiple clicks.\n",
       "      quickchartButtonEl.classList.add('colab-df-spinner');\n",
       "      try {\n",
       "        const charts = await google.colab.kernel.invokeFunction(\n",
       "            'suggestCharts', [key], {});\n",
       "      } catch (error) {\n",
       "        console.error('Error during call to suggestCharts:', error);\n",
       "      }\n",
       "      quickchartButtonEl.classList.remove('colab-df-spinner');\n",
       "      quickchartButtonEl.classList.add('colab-df-quickchart-complete');\n",
       "    }\n",
       "    (() => {\n",
       "      let quickchartButtonEl =\n",
       "        document.querySelector('#df-2fe126db-896f-4416-9a54-2890d2a7c961 button');\n",
       "      quickchartButtonEl.style.display =\n",
       "        google.colab.kernel.accessAllowed ? 'block' : 'none';\n",
       "    })();\n",
       "  </script>\n",
       "</div>\n",
       "\n",
       "    </div>\n",
       "  </div>\n"
      ],
      "text/plain": [
       "        MW  Month  Day  Year\n",
       "0    332.0      1    1  2010\n",
       "1   1898.0      2    1  2010\n",
       "2   2764.0      3    1  2010\n",
       "3  12736.0      4    1  2010\n",
       "4   8870.0      5    1  2010"
      ]
     },
     "execution_count": 5,
     "metadata": {},
     "output_type": "execute_result"
    }
   ],
   "source": [
    "DataFrame.head()"
   ]
  },
  {
   "cell_type": "code",
   "execution_count": 6,
   "metadata": {
    "id": "cTKXX-vrRFS_"
   },
   "outputs": [],
   "source": [
    "#copier les donnees pour les conserver et travailler seulement avec la copie\n",
    "model_data = DataFrame"
   ]
  },
  {
   "cell_type": "code",
   "execution_count": 7,
   "metadata": {
    "colab": {
     "base_uri": "https://localhost:8080/"
    },
    "id": "WfZHh8ALRLkc",
    "outputId": "9d13f7b4-510e-4ebc-bed3-0ceaa13f578c"
   },
   "outputs": [
    {
     "name": "stdout",
     "output_type": "stream",
     "text": [
      "2922\n",
      "2191\n",
      "731\n"
     ]
    }
   ],
   "source": [
    "#standarization des donnees\n",
    "scaler = MinMaxScaler(feature_range=(0, 1))\n",
    "model_data = scaler.fit_transform(model_data)\n",
    "\n",
    "# Création de la fonction qui va fractionner les données en Data_train et DataTest\n",
    "def split_data(df):\n",
    "    train_size = int(len(df) * 0.75)\n",
    "    test_size = len(df) - train_size\n",
    "    train, test = df[0:train_size,:], df[train_size:len(df),:]\n",
    "    return train, test\n",
    "\n",
    "#appel de la fonction \"split data\"\n",
    "train, test = split_data(model_data)\n",
    "print(len(model_data))\n",
    "print(len(train))\n",
    "print(len(test))"
   ]
  },
  {
   "cell_type": "markdown",
   "metadata": {
    "id": "9ovF4k9anR09"
   },
   "source": [
    "Ces parties du code divisent les données en ensembles d'entraînement et de test, puis fractionnent les données en séquences pour être utilisées dans un modèle LSTM. Les données sont également transformées en un format 3D adapté à l'entrée du modèle LSTM."
   ]
  },
  {
   "cell_type": "code",
   "execution_count": 8,
   "metadata": {
    "colab": {
     "base_uri": "https://localhost:8080/"
    },
    "id": "dwYoO95dRLos",
    "outputId": "aaecaabc-350c-4190-f02b-5a8f951c42f9"
   },
   "outputs": [
    {
     "name": "stdout",
     "output_type": "stream",
     "text": [
      "723\n",
      "723\n",
      "2183\n",
      "2183\n"
     ]
    }
   ],
   "source": [
    "# Création de la fonction qui va fractionner les données Xtrain et Ytrain puis Xtest et Ytest\n",
    "def Split_weekly(df, look_back=7):\n",
    "\tdataX, dataY = [], []\n",
    "\tfor i in range(len(df)-look_back-1):\n",
    "\t\ta = df[i:(i+look_back), 0]\n",
    "\t\tdataX.append(a)\n",
    "\t\tdataY.append(df[i + look_back, 0])\n",
    "\treturn np.array(dataX), np.array(dataY)\n",
    "\n",
    "#Appel de la fonction Split_weekly\n",
    "Xtrain, Ytrain = Split_weekly(train)\n",
    "Xtest, Ytest = Split_weekly(test)\n",
    "\n",
    "print(len(Xtest))\n",
    "print(len(Ytest))\n",
    "\n",
    "print(len(Xtrain))\n",
    "print(len(Ytrain))"
   ]
  },
  {
   "cell_type": "markdown",
   "metadata": {
    "id": "EWpHUB_wnc-m"
   },
   "source": [
    "Cette partie du code construit le modèle LSTM à l'aide de Keras Sequential API, l'entraîne sur les données d'entraînement, et évalue sa performance en utilisant la perte sur l'ensemble de validation. Ensuite, le modèle est utilisé pour prédire les valeurs sur l'ensemble de test, et les prédictions sont inversées à l'aide de la mise à l'échelle pour obtenir les valeurs réelles. Enfin, l'erreur quadratique moyenne (MSE) est calculée pour évaluer la performance du modèle."
   ]
  },
  {
   "cell_type": "code",
   "execution_count": 11,
   "metadata": {
    "colab": {
     "base_uri": "https://localhost:8080/"
    },
    "id": "a8KNjLqhRLro",
    "outputId": "9b861d46-69e0-40db-e448-25a374398efe"
   },
   "outputs": [
    {
     "name": "stdout",
     "output_type": "stream",
     "text": [
      "(723, 7, 1)\n",
      "(2183, 7, 1)\n"
     ]
    },
    {
     "name": "stderr",
     "output_type": "stream",
     "text": [
      "WARNING:absl:`lr` is deprecated in Keras optimizer, please use `learning_rate` or use the legacy optimizer, e.g.,tf.keras.optimizers.legacy.Nadam.\n"
     ]
    },
    {
     "name": "stdout",
     "output_type": "stream",
     "text": [
      "Epoch 1/50\n",
      "219/219 [==============================] - 9s 16ms/step - loss: 0.0480 - val_loss: 0.0714\n",
      "Epoch 2/50\n",
      "219/219 [==============================] - 3s 12ms/step - loss: 0.0330 - val_loss: 0.0795\n",
      "Epoch 3/50\n",
      "219/219 [==============================] - 2s 10ms/step - loss: 0.0310 - val_loss: 0.0686\n",
      "Epoch 4/50\n",
      "219/219 [==============================] - 2s 9ms/step - loss: 0.0275 - val_loss: 0.0576\n",
      "Epoch 5/50\n",
      "219/219 [==============================] - 2s 10ms/step - loss: 0.0234 - val_loss: 0.0521\n",
      "Epoch 6/50\n",
      "219/219 [==============================] - 2s 9ms/step - loss: 0.0211 - val_loss: 0.0487\n",
      "Epoch 7/50\n",
      "219/219 [==============================] - 3s 13ms/step - loss: 0.0198 - val_loss: 0.0397\n",
      "Epoch 8/50\n",
      "219/219 [==============================] - 4s 19ms/step - loss: 0.0182 - val_loss: 0.0429\n",
      "Epoch 9/50\n",
      "219/219 [==============================] - 4s 18ms/step - loss: 0.0176 - val_loss: 0.0376\n",
      "Epoch 10/50\n",
      "219/219 [==============================] - 3s 12ms/step - loss: 0.0171 - val_loss: 0.0407\n",
      "Epoch 11/50\n",
      "219/219 [==============================] - 2s 11ms/step - loss: 0.0165 - val_loss: 0.0317\n",
      "Epoch 12/50\n",
      "219/219 [==============================] - 2s 11ms/step - loss: 0.0163 - val_loss: 0.0324\n",
      "Epoch 13/50\n",
      "219/219 [==============================] - 2s 8ms/step - loss: 0.0159 - val_loss: 0.0266\n",
      "Epoch 14/50\n",
      "219/219 [==============================] - 2s 9ms/step - loss: 0.0152 - val_loss: 0.0287\n",
      "Epoch 15/50\n",
      "219/219 [==============================] - 2s 9ms/step - loss: 0.0149 - val_loss: 0.0300\n",
      "Epoch 16/50\n",
      "219/219 [==============================] - 2s 9ms/step - loss: 0.0147 - val_loss: 0.0283\n",
      "Epoch 17/50\n",
      "219/219 [==============================] - 3s 12ms/step - loss: 0.0149 - val_loss: 0.0279\n",
      "Epoch 18/50\n",
      "219/219 [==============================] - 2s 10ms/step - loss: 0.0135 - val_loss: 0.0268\n",
      "Epoch 19/50\n",
      "219/219 [==============================] - 2s 9ms/step - loss: 0.0136 - val_loss: 0.0279\n",
      "Epoch 20/50\n",
      "219/219 [==============================] - 2s 9ms/step - loss: 0.0133 - val_loss: 0.0248\n",
      "Epoch 21/50\n",
      "219/219 [==============================] - 2s 9ms/step - loss: 0.0136 - val_loss: 0.0239\n",
      "Epoch 22/50\n",
      "219/219 [==============================] - 2s 8ms/step - loss: 0.0130 - val_loss: 0.0253\n",
      "Epoch 23/50\n",
      "219/219 [==============================] - 2s 10ms/step - loss: 0.0128 - val_loss: 0.0243\n",
      "Epoch 24/50\n",
      "219/219 [==============================] - 2s 11ms/step - loss: 0.0124 - val_loss: 0.0244\n",
      "Epoch 25/50\n",
      "219/219 [==============================] - 2s 9ms/step - loss: 0.0127 - val_loss: 0.0245\n",
      "Epoch 26/50\n",
      "219/219 [==============================] - 2s 10ms/step - loss: 0.0119 - val_loss: 0.0236\n",
      "Epoch 27/50\n",
      "219/219 [==============================] - 2s 10ms/step - loss: 0.0121 - val_loss: 0.0266\n",
      "Epoch 28/50\n",
      "219/219 [==============================] - 2s 9ms/step - loss: 0.0116 - val_loss: 0.0224\n",
      "Epoch 29/50\n",
      "219/219 [==============================] - 3s 13ms/step - loss: 0.0118 - val_loss: 0.0246\n",
      "Epoch 30/50\n",
      "219/219 [==============================] - 2s 9ms/step - loss: 0.0120 - val_loss: 0.0243\n",
      "Epoch 31/50\n",
      "219/219 [==============================] - 2s 10ms/step - loss: 0.0114 - val_loss: 0.0265\n",
      "Epoch 32/50\n",
      "219/219 [==============================] - 2s 9ms/step - loss: 0.0108 - val_loss: 0.0242\n",
      "Epoch 33/50\n",
      "219/219 [==============================] - 2s 9ms/step - loss: 0.0113 - val_loss: 0.0242\n",
      "Epoch 34/50\n",
      "219/219 [==============================] - 2s 9ms/step - loss: 0.0111 - val_loss: 0.0246\n",
      "Epoch 35/50\n",
      "219/219 [==============================] - 3s 13ms/step - loss: 0.0112 - val_loss: 0.0233\n",
      "Epoch 36/50\n",
      "219/219 [==============================] - 2s 9ms/step - loss: 0.0109 - val_loss: 0.0240\n",
      "Epoch 37/50\n",
      "219/219 [==============================] - 2s 9ms/step - loss: 0.0114 - val_loss: 0.0248\n",
      "Epoch 38/50\n",
      "219/219 [==============================] - 2s 9ms/step - loss: 0.0113 - val_loss: 0.0256\n",
      "Epoch 39/50\n",
      "219/219 [==============================] - 2s 9ms/step - loss: 0.0110 - val_loss: 0.0260\n",
      "Epoch 40/50\n",
      "219/219 [==============================] - 2s 9ms/step - loss: 0.0109 - val_loss: 0.0249\n",
      "Epoch 41/50\n",
      "219/219 [==============================] - 3s 12ms/step - loss: 0.0109 - val_loss: 0.0252\n",
      "Epoch 42/50\n",
      "219/219 [==============================] - 2s 10ms/step - loss: 0.0109 - val_loss: 0.0266\n",
      "Epoch 43/50\n",
      "219/219 [==============================] - 2s 8ms/step - loss: 0.0107 - val_loss: 0.0245\n",
      "Epoch 44/50\n",
      "219/219 [==============================] - 2s 8ms/step - loss: 0.0108 - val_loss: 0.0240\n",
      "Epoch 45/50\n",
      "219/219 [==============================] - 2s 8ms/step - loss: 0.0109 - val_loss: 0.0249\n",
      "Epoch 46/50\n",
      "219/219 [==============================] - 2s 9ms/step - loss: 0.0108 - val_loss: 0.0246\n",
      "Epoch 47/50\n",
      "219/219 [==============================] - 3s 13ms/step - loss: 0.0109 - val_loss: 0.0244\n",
      "Epoch 48/50\n",
      "219/219 [==============================] - 2s 11ms/step - loss: 0.0110 - val_loss: 0.0243\n",
      "Epoch 49/50\n",
      "219/219 [==============================] - 2s 9ms/step - loss: 0.0107 - val_loss: 0.0243\n",
      "Epoch 50/50\n",
      "219/219 [==============================] - 2s 9ms/step - loss: 0.0108 - val_loss: 0.0244\n"
     ]
    }
   ],
   "source": [
    "#transformer la size des donnees en 3D\n",
    "Xtrain = Xtrain.reshape(Xtrain.shape[0], Xtrain.shape[1], 1)\n",
    "Xtest = Xtest.reshape(Xtest.shape[0], Xtest.shape[1], 1)\n",
    "\n",
    "print(Xtest.shape[:])\n",
    "print(Xtrain.shape[:])\n",
    "\n",
    "model = Sequential()\n",
    "model.add(LSTM(units = 8, input_shape=(Xtrain.shape[1], 1), return_sequences=True))\n",
    "model.add(Dropout(0.2))\n",
    "model.add(LSTM(units = 16))\n",
    "model.add(Dropout(0.2))#drop out overfetting\n",
    "model.add(Dense(1, activation='sigmoid'))\n",
    "model.compile(optimizer = ops.Nadam(lr=1e-3), loss = 'mse')\n",
    "\n",
    "\n",
    "model_train = model.fit(Xtrain, Ytrain, validation_split=0.2, epochs=50, batch_size=8, verbose=1)"
   ]
  },
  {
   "cell_type": "code",
   "execution_count": 12,
   "metadata": {
    "colab": {
     "base_uri": "https://localhost:8080/",
     "height": 460
    },
    "id": "xkvl-pa5RLuq",
    "outputId": "dc6ae56f-30cc-4159-f51d-5b6ffcbf6e7e"
   },
   "outputs": [
    {
     "data": {
      "image/png": "[encoded data removed]",
      "text/plain": [
       "<Figure size 2000x500 with 1 Axes>"
      ]
     },
     "metadata": {},
     "output_type": "display_data"
    }
   ],
   "source": [
    "def ploter_Erreur(hist):\n",
    "    f, axarr = plt.subplots(1,1, figsize=(20, 5))\n",
    "\n",
    "    plt.plot(hist.history['loss'])\n",
    "    plt.plot(hist.history['val_loss'])\n",
    "    axarr.set_title('Model loss')\n",
    "    axarr.set_ylabel('Loss')\n",
    "    axarr.set_xlabel('Epoch')\n",
    "    axarr.legend(['Entrainement', 'validation'], loc='upper left')\n",
    "    plt.show()\n",
    "\n",
    "\n",
    "ploter_Erreur(model_train)"
   ]
  },
  {
   "cell_type": "code",
   "execution_count": 15,
   "metadata": {
    "colab": {
     "base_uri": "https://localhost:8080/"
    },
    "id": "OedME7wETnVv",
    "outputId": "66cd9321-fa7e-4d75-d56f-713367617431"
   },
   "outputs": [
    {
     "name": "stdout",
     "output_type": "stream",
     "text": [
      "23/23 [==============================] - 0s 4ms/step\n"
     ]
    },
    {
     "data": {
      "text/plain": [
       "2510090532.0911527"
      ]
     },
     "execution_count": 15,
     "metadata": {},
     "output_type": "execute_result"
    }
   ],
   "source": [
    "testPredict = model.predict(Xtest)\n",
    "\n",
    "scaler2 = MinMaxScaler()\n",
    "scaler2.min_, scaler2.scale_ = scaler.min_[0], scaler.scale_[0]\n",
    "\n",
    "testPredict = scaler2.inverse_transform(testPredict)\n",
    "Ytestp = scaler2.inverse_transform([Ytest])\n",
    "\n",
    "mean_squared_error(Ytestp[0], testPredict[:,0])\n",
    "\n"
   ]
  },
  {
   "cell_type": "markdown",
   "metadata": {
    "id": "tNGEBGTnk-3T"
   },
   "source": []
  }
 ],
 "metadata": {
  "colab": {
   "provenance": []
  },
  "kernelspec": {
   "display_name": "Python 3 (ipykernel)",
   "language": "python",
   "name": "python3"
  },
  "language_info": {
   "codemirror_mode": {
    "name": "ipython",
    "version": 3
   },
   "file_extension": ".py",
   "mimetype": "text/x-python",
   "name": "python",
   "nbconvert_exporter": "python",
   "pygments_lexer": "ipython3",
   "version": "3.9.13"
  }
 },
 "nbformat": 4,
 "nbformat_minor": 1
}
